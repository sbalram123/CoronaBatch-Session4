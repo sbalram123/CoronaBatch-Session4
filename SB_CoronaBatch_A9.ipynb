{
  "nbformat": 4,
  "nbformat_minor": 0,
  "metadata": {
    "kernelspec": {
      "name": "python3",
      "display_name": "Python 3"
    },
    "language_info": {
      "codemirror_mode": {
        "name": "ipython",
        "version": 3
      },
      "file_extension": ".py",
      "mimetype": "text/x-python",
      "name": "python",
      "nbconvert_exporter": "python",
      "pygments_lexer": "ipython3",
      "version": "3.6.6"
    },
    "colab": {
      "name": "SB CoronaBatch - A9.ipynb",
      "provenance": [],
      "collapsed_sections": [],
      "include_colab_link": true
    },
    "accelerator": "GPU"
  },
  "cells": [
    {
      "cell_type": "markdown",
      "metadata": {
        "id": "view-in-github",
        "colab_type": "text"
      },
      "source": [
        "<a href=\"https://colab.research.google.com/github/sbalram123/CoronaBatch-Session4/blob/master/SB_CoronaBatch_A9.ipynb\" target=\"_parent\"><img src=\"https://colab.research.google.com/assets/colab-badge.svg\" alt=\"Open In Colab\"/></a>"
      ]
    },
    {
      "cell_type": "code",
      "metadata": {
        "id": "QVbdg0z4poCc",
        "colab_type": "code",
        "colab": {}
      },
      "source": [
        "  %matplotlib inline"
      ],
      "execution_count": 0,
      "outputs": []
    },
    {
      "cell_type": "code",
      "metadata": {
        "id": "-yVpodAMpoCi",
        "colab_type": "code",
        "outputId": "edba4f4d-082a-45d7-c235-4b02e795d7ce",
        "colab": {
          "base_uri": "https://localhost:8080/",
          "height": 51
        }
      },
      "source": [
        "!pip install -U git+https://github.com/albu/albumentations > /dev/null && echo \"All libraries are successfully installed!\"\n",
        "import torch\n",
        "import torchvision\n",
        "import torchvision.transforms as transforms\n",
        "import albumentations.augmentations.transforms as al_transforms\n",
        "\n",
        "# CoronaBatch : Sangeeta, Monish, Ashish, Ashwin"
      ],
      "execution_count": 95,
      "outputs": [
        {
          "output_type": "stream",
          "text": [
            "  Running command git clone -q https://github.com/albu/albumentations /tmp/pip-req-build-hv9tefyw\n",
            "All libraries are successfully installed!\n"
          ],
          "name": "stdout"
        }
      ]
    },
    {
      "cell_type": "code",
      "metadata": {
        "id": "D8Tjigo2poCl",
        "colab_type": "code",
        "outputId": "6aecf0de-8e33-4dc1-8087-8b5dae8b7de7",
        "colab": {
          "base_uri": "https://localhost:8080/",
          "height": 51
        }
      },
      "source": [
        "transform = transforms.Compose(\n",
        "    [transforms.ToTensor(),\n",
        "     transforms.Normalize((0.5, 0.5, 0.5), (0.5, 0.5, 0.5))])\n",
        "\n",
        "\n",
        "\n",
        "trainset = torchvision.datasets.CIFAR10(root='./data', train=True,\n",
        "                                        download=True, transform=transform)\n",
        "trainloader = torch.utils.data.DataLoader(trainset, batch_size=4,\n",
        "                                          shuffle=True, num_workers=2)\n",
        "\n",
        "testset = torchvision.datasets.CIFAR10(root='./data', train=False,\n",
        "                                       download=True, transform=transform)\n",
        "testloader = torch.utils.data.DataLoader(testset, batch_size=4,\n",
        "                                         shuffle=False, num_workers=2)\n",
        "\n",
        "\n",
        "\n",
        "classes = ('plane', 'car', 'bird', 'cat',\n",
        "           'deer', 'dog', 'frog', 'horse', 'ship', 'truck')"
      ],
      "execution_count": 96,
      "outputs": [
        {
          "output_type": "stream",
          "text": [
            "Files already downloaded and verified\n",
            "Files already downloaded and verified\n"
          ],
          "name": "stdout"
        }
      ]
    },
    {
      "cell_type": "markdown",
      "metadata": {
        "id": "_cj433rtpoCn",
        "colab_type": "text"
      },
      "source": [
        "Let us show some of the training images, for fun.\n",
        "\n"
      ]
    },
    {
      "cell_type": "code",
      "metadata": {
        "id": "daA7bADhpoCo",
        "colab_type": "code",
        "outputId": "c8a90f26-fb61-4bee-ae37-89761b823dff",
        "colab": {
          "base_uri": "https://localhost:8080/",
          "height": 155
        }
      },
      "source": [
        "import matplotlib.pyplot as plt\n",
        "import numpy as np\n",
        "\n",
        "\n",
        "def imshow(img):\n",
        "    img = img / 2 + 0.5     # unnormalize\n",
        "    npimg = img.numpy()\n",
        "    plt.imshow(np.transpose(npimg, (1, 2, 0)))\n",
        "\n",
        "\n",
        "\n",
        "# get some random training images\n",
        "dataiter = iter(trainloader)\n",
        "images, labels = dataiter.next()\n",
        "\n",
        "#Adding Horizontal Flip from Albumentation only to Train dataset\n",
        "\n",
        "# always_apply=False, p=0.5\n",
        "al_transforms.HorizontalFlip(images)\n",
        "\n",
        "\n",
        "# show images\n",
        "imshow(torchvision.utils.make_grid(images))\n",
        "# print labels\n",
        "print(' '.join('%5s' % classes[labels[j]] for j in range(4)))\n",
        "\n",
        "\n"
      ],
      "execution_count": 97,
      "outputs": [
        {
          "output_type": "stream",
          "text": [
            " deer   car  frog  ship\n"
          ],
          "name": "stdout"
        },
        {
          "output_type": "display_data",
          "data": {
            "image/png": "[encoded data removed]",
            "text/plain": [
              "<Figure size 432x288 with 1 Axes>"
            ]
          },
          "metadata": {
            "tags": [],
            "needs_background": "light"
          }
        }
      ]
    },
    {
      "cell_type": "code",
      "metadata": {
        "id": "vzlV4bAlkzgM",
        "colab_type": "code",
        "colab": {}
      },
      "source": [
        "    def get_data_loader(self, train, test, batch_size=128):\n",
        "        SEED = 1\n",
        "        # CUDA?\n",
        "        cuda = torch.cuda.is_available()\n",
        "        print(\"CUDA Available?\", cuda)\n",
        "\n",
        "        # For reproducibility\n",
        "        torch.manual_seed(SEED)\n",
        "\n",
        "        if cuda:\n",
        "            torch.cuda.manual_seed(SEED)\n",
        "\n",
        "        # dataloader arguments - something you'll fetch these from cmdprmt\n",
        "        dataloader_args = dict(shuffle=True, batch_size=batch_size, num_workers=4, pin_memory=True) if cuda else dict(shuffle=True, batch_size=64)\n",
        "\n",
        "        # train dataloader\n",
        "        train_loader = torch.utils.data.DataLoader(train, **dataloader_args)\n",
        "\n",
        "        # test dataloader\n",
        "        test_loader = torch.utils.data.DataLoader(test, **dataloader_args)\n",
        "        return train_loader, test_loader"
      ],
      "execution_count": 0,
      "outputs": []
    },
    {
      "cell_type": "markdown",
      "metadata": {
        "id": "28OpHA_LpoCq",
        "colab_type": "text"
      },
      "source": [
        "2. Define a Convolution Neural Network\n",
        "^^^^^^^^^^^^^^^^^^^^^^^^^^^^^^^^^^^^^^\n",
        "Copy the neural network from the Neural Networks section before and modify it to\n",
        "take 3-channel images (instead of 1-channel images as it was defined).\n",
        "\n"
      ]
    },
    {
      "cell_type": "code",
      "metadata": {
        "id": "0jjLwLLQpoCr",
        "colab_type": "code",
        "colab": {}
      },
      "source": [
        "  # return nn.Sequential(nn.Conv2d(nin, nin * kernels_per_layer, kernel_size=3, padding=1, groups=nin),\n",
        "  #                       nn.Conv2d(nin * kernels_per_layer, nout, kernel_size=1),\n",
        "  #                       nn.ReLU(),            \n",
        "  #                       nn.BatchNorm2d(nout),\n",
        "  #                       nn.Dropout(dropout))\n",
        "\n",
        "\n",
        "\n",
        "import torch.nn as nn\n",
        "import torch.nn.functional as F\n",
        "\n",
        "dropout = 0.09 \n",
        "class Net(nn.Module):\n",
        "    def __init__(self):\n",
        "        super(Net, self).__init__()       \n",
        "        self.model = nn.Sequential(\n",
        "                                nn.Conv2d(in_channels=3, out_channels=32, kernel_size=(3,3), padding= 0, bias= False, dilation = 2),\n",
        "                                nn.ReLU(),            \n",
        "                                nn.BatchNorm2d(32),\n",
        "                                nn.Dropout(dropout),\n",
        "\n",
        "                                # Depthwize Convolution Code Starts *************************\n",
        "                                nn.Conv2d(32, 32, kernel_size=3, padding=1, groups=32),\n",
        "                                nn.Conv2d(32, 64, kernel_size=1, padding=1),\n",
        "                                nn.ReLU(),            \n",
        "                                nn.BatchNorm2d(64),\n",
        "                                nn.Dropout(dropout),\n",
        "                                # Depthwize Convolution Code Ends ***************************\n",
        "\n",
        "                                nn.MaxPool2d(2,2),\n",
        "\n",
        "                                # Depthwize Convolution Code Starts *************************\n",
        "                                nn.Conv2d(64, 64, kernel_size=3, padding=1, groups=64),\n",
        "                                nn.Conv2d(64, 128, kernel_size=1, padding=1),\n",
        "                                nn.ReLU(),            \n",
        "                                nn.BatchNorm2d(128),\n",
        "                                nn.Dropout(dropout),\n",
        "                                # Depthwize Convolution Code Ends ***************************\n",
        "\n",
        "                                nn.MaxPool2d(2,2),\n",
        "\n",
        "                                # Depthwize Convolution Code Starts *************************\n",
        "                                nn.Conv2d(128, 128, kernel_size=3, padding=1, groups=128),\n",
        "                                nn.Conv2d(128, 128, kernel_size=1),\n",
        "                                nn.ReLU(),            \n",
        "                                nn.BatchNorm2d(128),\n",
        "                                nn.Dropout(dropout),\n",
        "                                # Depthwize Convolution Code Ends *************************\n",
        "\n",
        "                                nn.MaxPool2d(2,2),\n",
        "\n",
        "                                # Depthwize Convolution Code Starts *************************\n",
        "                                nn.Conv2d(128, 128, kernel_size=3, padding=1, groups=128),\n",
        "                                nn.Conv2d(128, 470, kernel_size=1),\n",
        "                                nn.ReLU(),            \n",
        "                                nn.BatchNorm2d(470),\n",
        "                                nn.Dropout(dropout),\n",
        "                                # Depthwize Convolution Code Ends *************************\n",
        "\n",
        "                                nn.AvgPool2d(kernel_size= 3),\n",
        "                                nn.Conv2d(in_channels=470, out_channels=10, kernel_size=(1, 1), padding=0, bias=False),                        \n",
        "                                )\n",
        "    \n",
        "    def forward(self,x):\n",
        "      x = self.model(x)\n",
        "      x=x.view(-1,10)\n",
        "      return F.log_softmax(x, dim= -1)\n",
        "\n",
        "\n",
        "net = Net()"
      ],
      "execution_count": 0,
      "outputs": []
    },
    {
      "cell_type": "markdown",
      "metadata": {
        "id": "Wdw2NNCUpoCu",
        "colab_type": "text"
      },
      "source": [
        "3. Define a Loss function and optimizer\n",
        "^^^^^^^^^^^^^^^^^^^^^^^^^^^^^^^^^^^^^^^\n",
        "Let's use a Classification Cross-Entropy loss and SGD with momentum.\n",
        "\n"
      ]
    },
    {
      "cell_type": "code",
      "metadata": {
        "id": "M4xBbDROpoCv",
        "colab_type": "code",
        "colab": {}
      },
      "source": [
        "import torch.optim as optim\n",
        "\n",
        "criterion = nn.CrossEntropyLoss()\n",
        "optimizer = optim.SGD(net.parameters(), lr=0.001, momentum=0.9)"
      ],
      "execution_count": 0,
      "outputs": []
    },
    {
      "cell_type": "code",
      "metadata": {
        "id": "cuFDvUOtkSet",
        "colab_type": "code",
        "outputId": "b364307d-0ceb-4e79-8eff-84b95d6aff58",
        "colab": {
          "base_uri": "https://localhost:8080/",
          "height": 748
        }
      },
      "source": [
        "from torchsummary import summary\n",
        "use_cuda = torch.cuda.is_available()\n",
        "device = torch.device(\"cuda\" if use_cuda else \"cpu\")\n",
        "print(device)\n",
        "model = Net().to(device)\n",
        "summary(model, input_size=(3, 32, 32))"
      ],
      "execution_count": 101,
      "outputs": [
        {
          "output_type": "stream",
          "text": [
            "cuda\n",
            "----------------------------------------------------------------\n",
            "        Layer (type)               Output Shape         Param #\n",
            "================================================================\n",
            "            Conv2d-1           [-1, 32, 28, 28]             864\n",
            "              ReLU-2           [-1, 32, 28, 28]               0\n",
            "       BatchNorm2d-3           [-1, 32, 28, 28]              64\n",
            "           Dropout-4           [-1, 32, 28, 28]               0\n",
            "            Conv2d-5           [-1, 32, 28, 28]             320\n",
            "            Conv2d-6           [-1, 64, 30, 30]           2,112\n",
            "              ReLU-7           [-1, 64, 30, 30]               0\n",
            "       BatchNorm2d-8           [-1, 64, 30, 30]             128\n",
            "           Dropout-9           [-1, 64, 30, 30]               0\n",
            "        MaxPool2d-10           [-1, 64, 15, 15]               0\n",
            "           Conv2d-11           [-1, 64, 15, 15]             640\n",
            "           Conv2d-12          [-1, 128, 17, 17]           8,320\n",
            "             ReLU-13          [-1, 128, 17, 17]               0\n",
            "      BatchNorm2d-14          [-1, 128, 17, 17]             256\n",
            "          Dropout-15          [-1, 128, 17, 17]               0\n",
            "        MaxPool2d-16            [-1, 128, 8, 8]               0\n",
            "           Conv2d-17            [-1, 128, 8, 8]           1,280\n",
            "           Conv2d-18            [-1, 128, 8, 8]          16,512\n",
            "             ReLU-19            [-1, 128, 8, 8]               0\n",
            "      BatchNorm2d-20            [-1, 128, 8, 8]             256\n",
            "          Dropout-21            [-1, 128, 8, 8]               0\n",
            "        MaxPool2d-22            [-1, 128, 4, 4]               0\n",
            "           Conv2d-23            [-1, 128, 4, 4]           1,280\n",
            "           Conv2d-24            [-1, 470, 4, 4]          60,630\n",
            "             ReLU-25            [-1, 470, 4, 4]               0\n",
            "      BatchNorm2d-26            [-1, 470, 4, 4]             940\n",
            "          Dropout-27            [-1, 470, 4, 4]               0\n",
            "        AvgPool2d-28            [-1, 470, 1, 1]               0\n",
            "           Conv2d-29             [-1, 10, 1, 1]           4,700\n",
            "================================================================\n",
            "Total params: 98,302\n",
            "Trainable params: 98,302\n",
            "Non-trainable params: 0\n",
            "----------------------------------------------------------------\n",
            "Input size (MB): 0.01\n",
            "Forward/backward pass size (MB): 4.70\n",
            "Params size (MB): 0.37\n",
            "Estimated Total Size (MB): 5.09\n",
            "----------------------------------------------------------------\n"
          ],
          "name": "stdout"
        }
      ]
    },
    {
      "cell_type": "markdown",
      "metadata": {
        "id": "O-odOrhdpoC2",
        "colab_type": "text"
      },
      "source": [
        "4. Train the network\n",
        "^^^^^^^^^^^^^^^^^^^^\n",
        "\n",
        "This is when things start to get interesting.\n",
        "We simply have to loop over our data iterator, and feed the inputs to the\n",
        "network and optimize.\n",
        "\n"
      ]
    },
    {
      "cell_type": "code",
      "metadata": {
        "id": "kkuRfo1IpoC3",
        "colab_type": "code",
        "outputId": "bcc34bb7-b47c-49eb-8649-cb5d4683b853",
        "colab": {
          "base_uri": "https://localhost:8080/",
          "height": 1000
        }
      },
      "source": [
        "for epoch in range(39):  # loop over the dataset multiple times\n",
        "\n",
        "    running_loss = 0.0\n",
        "    for i, data in enumerate(trainloader, 0):\n",
        "        # get the inputs\n",
        "        inputs, labels = data\n",
        "\n",
        "        # zero the parameter gradients\n",
        "        optimizer.zero_grad()\n",
        "\n",
        "        # forward + backward + optimize\n",
        "        outputs = net(inputs)\n",
        "        loss = criterion(outputs, labels)\n",
        "        loss.backward()\n",
        "        optimizer.step()\n",
        "\n",
        "        # print statistics\n",
        "        running_loss += loss.item()\n",
        "        if i % 2000 == 1999:    # print every 2000 mini-batches\n",
        "            print('[%d, %5d] loss: %.3f' %\n",
        "                  (epoch + 1, i + 1, running_loss / 2000))\n",
        "            running_loss = 0.0\n",
        "\n",
        "print('Finished Training')"
      ],
      "execution_count": 102,
      "outputs": [
        {
          "output_type": "stream",
          "text": [
            "[1,  2000] loss: 1.831\n",
            "[1,  4000] loss: 1.597\n",
            "[1,  6000] loss: 1.471\n",
            "[1,  8000] loss: 1.355\n",
            "[1, 10000] loss: 1.282\n",
            "[1, 12000] loss: 1.250\n",
            "[2,  2000] loss: 1.166\n",
            "[2,  4000] loss: 1.129\n",
            "[2,  6000] loss: 1.101\n",
            "[2,  8000] loss: 1.088\n",
            "[2, 10000] loss: 1.055\n",
            "[2, 12000] loss: 1.042\n",
            "[3,  2000] loss: 0.958\n",
            "[3,  4000] loss: 0.967\n",
            "[3,  6000] loss: 0.956\n",
            "[3,  8000] loss: 0.949\n",
            "[3, 10000] loss: 0.937\n",
            "[3, 12000] loss: 0.947\n",
            "[4,  2000] loss: 0.894\n",
            "[4,  4000] loss: 0.871\n",
            "[4,  6000] loss: 0.864\n",
            "[4,  8000] loss: 0.882\n",
            "[4, 10000] loss: 0.857\n",
            "[4, 12000] loss: 0.847\n",
            "[5,  2000] loss: 0.788\n",
            "[5,  4000] loss: 0.814\n",
            "[5,  6000] loss: 0.828\n",
            "[5,  8000] loss: 0.800\n",
            "[5, 10000] loss: 0.799\n",
            "[5, 12000] loss: 0.797\n",
            "[6,  2000] loss: 0.743\n",
            "[6,  4000] loss: 0.761\n",
            "[6,  6000] loss: 0.764\n",
            "[6,  8000] loss: 0.752\n",
            "[6, 10000] loss: 0.743\n",
            "[6, 12000] loss: 0.769\n",
            "[7,  2000] loss: 0.708\n",
            "[7,  4000] loss: 0.727\n",
            "[7,  6000] loss: 0.726\n",
            "[7,  8000] loss: 0.696\n",
            "[7, 10000] loss: 0.722\n",
            "[7, 12000] loss: 0.709\n",
            "[8,  2000] loss: 0.676\n",
            "[8,  4000] loss: 0.690\n",
            "[8,  6000] loss: 0.687\n",
            "[8,  8000] loss: 0.683\n",
            "[8, 10000] loss: 0.680\n",
            "[8, 12000] loss: 0.695\n",
            "[9,  2000] loss: 0.633\n",
            "[9,  4000] loss: 0.648\n",
            "[9,  6000] loss: 0.676\n",
            "[9,  8000] loss: 0.653\n",
            "[9, 10000] loss: 0.683\n",
            "[9, 12000] loss: 0.657\n",
            "[10,  2000] loss: 0.595\n",
            "[10,  4000] loss: 0.623\n",
            "[10,  6000] loss: 0.615\n",
            "[10,  8000] loss: 0.638\n",
            "[10, 10000] loss: 0.645\n",
            "[10, 12000] loss: 0.652\n",
            "[11,  2000] loss: 0.572\n",
            "[11,  4000] loss: 0.591\n",
            "[11,  6000] loss: 0.595\n",
            "[11,  8000] loss: 0.617\n",
            "[11, 10000] loss: 0.620\n",
            "[11, 12000] loss: 0.627\n",
            "[12,  2000] loss: 0.591\n",
            "[12,  4000] loss: 0.582\n",
            "[12,  6000] loss: 0.590\n",
            "[12,  8000] loss: 0.592\n",
            "[12, 10000] loss: 0.569\n",
            "[12, 12000] loss: 0.602\n",
            "[13,  2000] loss: 0.555\n",
            "[13,  4000] loss: 0.564\n",
            "[13,  6000] loss: 0.568\n",
            "[13,  8000] loss: 0.556\n",
            "[13, 10000] loss: 0.576\n",
            "[13, 12000] loss: 0.570\n",
            "[14,  2000] loss: 0.529\n",
            "[14,  4000] loss: 0.537\n",
            "[14,  6000] loss: 0.554\n",
            "[14,  8000] loss: 0.559\n",
            "[14, 10000] loss: 0.565\n",
            "[14, 12000] loss: 0.586\n",
            "[15,  2000] loss: 0.530\n",
            "[15,  4000] loss: 0.527\n",
            "[15,  6000] loss: 0.535\n",
            "[15,  8000] loss: 0.541\n",
            "[15, 10000] loss: 0.562\n",
            "[15, 12000] loss: 0.543\n",
            "[16,  2000] loss: 0.504\n",
            "[16,  4000] loss: 0.525\n",
            "[16,  6000] loss: 0.521\n",
            "[16,  8000] loss: 0.541\n",
            "[16, 10000] loss: 0.532\n",
            "[16, 12000] loss: 0.547\n",
            "[17,  2000] loss: 0.487\n",
            "[17,  4000] loss: 0.495\n",
            "[17,  6000] loss: 0.510\n",
            "[17,  8000] loss: 0.515\n",
            "[17, 10000] loss: 0.513\n",
            "[17, 12000] loss: 0.518\n",
            "[18,  2000] loss: 0.480\n",
            "[18,  4000] loss: 0.483\n",
            "[18,  6000] loss: 0.500\n",
            "[18,  8000] loss: 0.499\n",
            "[18, 10000] loss: 0.518\n",
            "[18, 12000] loss: 0.531\n",
            "[19,  2000] loss: 0.447\n",
            "[19,  4000] loss: 0.479\n",
            "[19,  6000] loss: 0.486\n",
            "[19,  8000] loss: 0.489\n",
            "[19, 10000] loss: 0.508\n",
            "[19, 12000] loss: 0.506\n",
            "[20,  2000] loss: 0.470\n",
            "[20,  4000] loss: 0.474\n",
            "[20,  6000] loss: 0.487\n",
            "[20,  8000] loss: 0.482\n",
            "[20, 10000] loss: 0.489\n",
            "[20, 12000] loss: 0.482\n",
            "[21,  2000] loss: 0.448\n",
            "[21,  4000] loss: 0.462\n",
            "[21,  6000] loss: 0.459\n",
            "[21,  8000] loss: 0.482\n",
            "[21, 10000] loss: 0.463\n",
            "[21, 12000] loss: 0.493\n",
            "[22,  2000] loss: 0.436\n",
            "[22,  4000] loss: 0.450\n",
            "[22,  6000] loss: 0.472\n",
            "[22,  8000] loss: 0.469\n",
            "[22, 10000] loss: 0.471\n",
            "[22, 12000] loss: 0.485\n",
            "[23,  2000] loss: 0.433\n",
            "[23,  4000] loss: 0.448\n",
            "[23,  6000] loss: 0.431\n",
            "[23,  8000] loss: 0.463\n",
            "[23, 10000] loss: 0.457\n",
            "[23, 12000] loss: 0.476\n",
            "[24,  2000] loss: 0.417\n",
            "[24,  4000] loss: 0.433\n",
            "[24,  6000] loss: 0.424\n",
            "[24,  8000] loss: 0.461\n",
            "[24, 10000] loss: 0.432\n",
            "[24, 12000] loss: 0.466\n",
            "[25,  2000] loss: 0.418\n",
            "[25,  4000] loss: 0.435\n",
            "[25,  6000] loss: 0.438\n",
            "[25,  8000] loss: 0.448\n",
            "[25, 10000] loss: 0.449\n",
            "[25, 12000] loss: 0.446\n",
            "[26,  2000] loss: 0.412\n",
            "[26,  4000] loss: 0.424\n",
            "[26,  6000] loss: 0.428\n",
            "[26,  8000] loss: 0.440\n",
            "[26, 10000] loss: 0.424\n",
            "[26, 12000] loss: 0.451\n",
            "[27,  2000] loss: 0.392\n",
            "[27,  4000] loss: 0.410\n",
            "[27,  6000] loss: 0.415\n",
            "[27,  8000] loss: 0.425\n",
            "[27, 10000] loss: 0.445\n",
            "[27, 12000] loss: 0.440\n",
            "[28,  2000] loss: 0.382\n",
            "[28,  4000] loss: 0.426\n",
            "[28,  6000] loss: 0.419\n",
            "[28,  8000] loss: 0.415\n",
            "[28, 10000] loss: 0.418\n",
            "[28, 12000] loss: 0.429\n",
            "[29,  2000] loss: 0.383\n",
            "[29,  4000] loss: 0.406\n",
            "[29,  6000] loss: 0.404\n",
            "[29,  8000] loss: 0.422\n",
            "[29, 10000] loss: 0.418\n",
            "[29, 12000] loss: 0.416\n",
            "[30,  2000] loss: 0.398\n",
            "[30,  4000] loss: 0.384\n",
            "[30,  6000] loss: 0.405\n",
            "[30,  8000] loss: 0.412\n",
            "[30, 10000] loss: 0.410\n",
            "[30, 12000] loss: 0.404\n",
            "[31,  2000] loss: 0.384\n",
            "[31,  4000] loss: 0.384\n",
            "[31,  6000] loss: 0.393\n",
            "[31,  8000] loss: 0.388\n",
            "[31, 10000] loss: 0.420\n",
            "[31, 12000] loss: 0.410\n",
            "[32,  2000] loss: 0.371\n",
            "[32,  4000] loss: 0.385\n",
            "[32,  6000] loss: 0.395\n",
            "[32,  8000] loss: 0.395\n",
            "[32, 10000] loss: 0.404\n",
            "[32, 12000] loss: 0.401\n",
            "[33,  2000] loss: 0.365\n",
            "[33,  4000] loss: 0.368\n",
            "[33,  6000] loss: 0.375\n",
            "[33,  8000] loss: 0.387\n",
            "[33, 10000] loss: 0.390\n",
            "[33, 12000] loss: 0.408\n",
            "[34,  2000] loss: 0.366\n",
            "[34,  4000] loss: 0.374\n",
            "[34,  6000] loss: 0.380\n",
            "[34,  8000] loss: 0.390\n",
            "[34, 10000] loss: 0.403\n",
            "[34, 12000] loss: 0.394\n",
            "[35,  2000] loss: 0.357\n",
            "[35,  4000] loss: 0.355\n",
            "[35,  6000] loss: 0.361\n",
            "[35,  8000] loss: 0.402\n",
            "[35, 10000] loss: 0.387\n",
            "[35, 12000] loss: 0.384\n",
            "[36,  2000] loss: 0.343\n",
            "[36,  4000] loss: 0.354\n",
            "[36,  6000] loss: 0.366\n",
            "[36,  8000] loss: 0.385\n",
            "[36, 10000] loss: 0.380\n",
            "[36, 12000] loss: 0.389\n",
            "[37,  2000] loss: 0.346\n",
            "[37,  4000] loss: 0.350\n",
            "[37,  6000] loss: 0.379\n",
            "[37,  8000] loss: 0.378\n",
            "[37, 10000] loss: 0.381\n",
            "[37, 12000] loss: 0.386\n",
            "[38,  2000] loss: 0.360\n",
            "[38,  4000] loss: 0.352\n",
            "[38,  6000] loss: 0.370\n",
            "[38,  8000] loss: 0.369\n",
            "[38, 10000] loss: 0.375\n",
            "[38, 12000] loss: 0.389\n",
            "[39,  2000] loss: 0.335\n",
            "[39,  4000] loss: 0.340\n",
            "[39,  6000] loss: 0.355\n",
            "[39,  8000] loss: 0.367\n",
            "[39, 10000] loss: 0.363\n"
          ],
          "name": "stdout"
        },
        {
          "output_type": "error",
          "ename": "KeyboardInterrupt",
          "evalue": "ignored",
          "traceback": [
            "\u001b[0;31m---------------------------------------------------------------------------\u001b[0m",
            "\u001b[0;31mKeyboardInterrupt\u001b[0m                         Traceback (most recent call last)",
            "\u001b[0;32m<ipython-input-102-57cf876cb890>\u001b[0m in \u001b[0;36m<module>\u001b[0;34m()\u001b[0m\n\u001b[1;32m     12\u001b[0m         \u001b[0moutputs\u001b[0m \u001b[0;34m=\u001b[0m \u001b[0mnet\u001b[0m\u001b[0;34m(\u001b[0m\u001b[0minputs\u001b[0m\u001b[0;34m)\u001b[0m\u001b[0;34m\u001b[0m\u001b[0;34m\u001b[0m\u001b[0m\n\u001b[1;32m     13\u001b[0m         \u001b[0mloss\u001b[0m \u001b[0;34m=\u001b[0m \u001b[0mcriterion\u001b[0m\u001b[0;34m(\u001b[0m\u001b[0moutputs\u001b[0m\u001b[0;34m,\u001b[0m \u001b[0mlabels\u001b[0m\u001b[0;34m)\u001b[0m\u001b[0;34m\u001b[0m\u001b[0;34m\u001b[0m\u001b[0m\n\u001b[0;32m---> 14\u001b[0;31m         \u001b[0mloss\u001b[0m\u001b[0;34m.\u001b[0m\u001b[0mbackward\u001b[0m\u001b[0;34m(\u001b[0m\u001b[0;34m)\u001b[0m\u001b[0;34m\u001b[0m\u001b[0;34m\u001b[0m\u001b[0m\n\u001b[0m\u001b[1;32m     15\u001b[0m         \u001b[0moptimizer\u001b[0m\u001b[0;34m.\u001b[0m\u001b[0mstep\u001b[0m\u001b[0;34m(\u001b[0m\u001b[0;34m)\u001b[0m\u001b[0;34m\u001b[0m\u001b[0;34m\u001b[0m\u001b[0m\n\u001b[1;32m     16\u001b[0m \u001b[0;34m\u001b[0m\u001b[0m\n",
            "\u001b[0;32m/usr/local/lib/python3.6/dist-packages/torch/tensor.py\u001b[0m in \u001b[0;36mbackward\u001b[0;34m(self, gradient, retain_graph, create_graph)\u001b[0m\n\u001b[1;32m    196\u001b[0m                 \u001b[0mproducts\u001b[0m\u001b[0;34m.\u001b[0m \u001b[0mDefaults\u001b[0m \u001b[0mto\u001b[0m\u001b[0;31m \u001b[0m\u001b[0;31m`\u001b[0m\u001b[0;31m`\u001b[0m\u001b[0;32mFalse\u001b[0m\u001b[0;31m`\u001b[0m\u001b[0;31m`\u001b[0m\u001b[0;34m.\u001b[0m\u001b[0;34m\u001b[0m\u001b[0;34m\u001b[0m\u001b[0m\n\u001b[1;32m    197\u001b[0m         \"\"\"\n\u001b[0;32m--> 198\u001b[0;31m         \u001b[0mtorch\u001b[0m\u001b[0;34m.\u001b[0m\u001b[0mautograd\u001b[0m\u001b[0;34m.\u001b[0m\u001b[0mbackward\u001b[0m\u001b[0;34m(\u001b[0m\u001b[0mself\u001b[0m\u001b[0;34m,\u001b[0m \u001b[0mgradient\u001b[0m\u001b[0;34m,\u001b[0m \u001b[0mretain_graph\u001b[0m\u001b[0;34m,\u001b[0m \u001b[0mcreate_graph\u001b[0m\u001b[0;34m)\u001b[0m\u001b[0;34m\u001b[0m\u001b[0;34m\u001b[0m\u001b[0m\n\u001b[0m\u001b[1;32m    199\u001b[0m \u001b[0;34m\u001b[0m\u001b[0m\n\u001b[1;32m    200\u001b[0m     \u001b[0;32mdef\u001b[0m \u001b[0mregister_hook\u001b[0m\u001b[0;34m(\u001b[0m\u001b[0mself\u001b[0m\u001b[0;34m,\u001b[0m \u001b[0mhook\u001b[0m\u001b[0;34m)\u001b[0m\u001b[0;34m:\u001b[0m\u001b[0;34m\u001b[0m\u001b[0;34m\u001b[0m\u001b[0m\n",
            "\u001b[0;32m/usr/local/lib/python3.6/dist-packages/torch/autograd/__init__.py\u001b[0m in \u001b[0;36mbackward\u001b[0;34m(tensors, grad_tensors, retain_graph, create_graph, grad_variables)\u001b[0m\n\u001b[1;32m     98\u001b[0m     Variable._execution_engine.run_backward(\n\u001b[1;32m     99\u001b[0m         \u001b[0mtensors\u001b[0m\u001b[0;34m,\u001b[0m \u001b[0mgrad_tensors\u001b[0m\u001b[0;34m,\u001b[0m \u001b[0mretain_graph\u001b[0m\u001b[0;34m,\u001b[0m \u001b[0mcreate_graph\u001b[0m\u001b[0;34m,\u001b[0m\u001b[0;34m\u001b[0m\u001b[0;34m\u001b[0m\u001b[0m\n\u001b[0;32m--> 100\u001b[0;31m         allow_unreachable=True)  # allow_unreachable flag\n\u001b[0m\u001b[1;32m    101\u001b[0m \u001b[0;34m\u001b[0m\u001b[0m\n\u001b[1;32m    102\u001b[0m \u001b[0;34m\u001b[0m\u001b[0m\n",
            "\u001b[0;31mKeyboardInterrupt\u001b[0m: "
          ]
        }
      ]
    },
    {
      "cell_type": "markdown",
      "metadata": {
        "id": "YLrvL_fHpoC5",
        "colab_type": "text"
      },
      "source": [
        "5. Test the network on the test data\n",
        "^^^^^^^^^^^^^^^^^^^^^^^^^^^^^^^^^^^^\n",
        "\n",
        "We have trained the network for 2 passes over the training dataset.\n",
        "But we need to check if the network has learnt anything at all.\n",
        "\n",
        "We will check this by predicting the class label that the neural network\n",
        "outputs, and checking it against the ground-truth. If the prediction is\n",
        "correct, we add the sample to the list of correct predictions.\n",
        "\n",
        "Okay, first step. Let us display an image from the test set to get familiar.\n",
        "\n"
      ]
    },
    {
      "cell_type": "code",
      "metadata": {
        "id": "nizbsvw9poC6",
        "colab_type": "code",
        "outputId": "d02517ee-7acc-4ad3-ec65-df2e94acf97a",
        "colab": {
          "base_uri": "https://localhost:8080/",
          "height": 155
        }
      },
      "source": [
        "dataiter = iter(testloader)\n",
        "images, labels = dataiter.next()\n",
        "\n",
        "# print images\n",
        "imshow(torchvision.utils.make_grid(images))\n",
        "print('GroundTruth: ', ' '.join('%5s' % classes[labels[j]] for j in range(4)))"
      ],
      "execution_count": 103,
      "outputs": [
        {
          "output_type": "stream",
          "text": [
            "GroundTruth:    cat  ship  ship plane\n"
          ],
          "name": "stdout"
        },
        {
          "output_type": "display_data",
          "data": {
            "image/png": "[encoded data removed]",
            "text/plain": [
              "<Figure size 432x288 with 1 Axes>"
            ]
          },
          "metadata": {
            "tags": [],
            "needs_background": "light"
          }
        }
      ]
    },
    {
      "cell_type": "markdown",
      "metadata": {
        "id": "DAx4QPHVpoC8",
        "colab_type": "text"
      },
      "source": [
        "Okay, now let us see what the neural network thinks these examples above are:\n",
        "\n"
      ]
    },
    {
      "cell_type": "code",
      "metadata": {
        "id": "HVLjlssWpoC9",
        "colab_type": "code",
        "colab": {}
      },
      "source": [
        "outputs = net(images)"
      ],
      "execution_count": 0,
      "outputs": []
    },
    {
      "cell_type": "markdown",
      "metadata": {
        "id": "u8OTHZEApoC_",
        "colab_type": "text"
      },
      "source": [
        "The outputs are energies for the 10 classes.\n",
        "Higher the energy for a class, the more the network\n",
        "thinks that the image is of the particular class.\n",
        "So, let's get the index of the highest energy:\n",
        "\n"
      ]
    },
    {
      "cell_type": "code",
      "metadata": {
        "id": "ABRIDW3lpoDA",
        "colab_type": "code",
        "outputId": "623b7164-7cfc-42e2-f2a4-8352bd049121",
        "colab": {
          "base_uri": "https://localhost:8080/",
          "height": 34
        }
      },
      "source": [
        "_, predicted = torch.max(outputs, 1)\n",
        "\n",
        "print('Predicted: ', ' '.join('%5s' % classes[predicted[j]]\n",
        "                              for j in range(4)))"
      ],
      "execution_count": 105,
      "outputs": [
        {
          "output_type": "stream",
          "text": [
            "Predicted:    cat  ship  ship plane\n"
          ],
          "name": "stdout"
        }
      ]
    },
    {
      "cell_type": "markdown",
      "metadata": {
        "id": "2TV0TXL1poDC",
        "colab_type": "text"
      },
      "source": [
        "The results seem pretty good.\n",
        "\n",
        "Let us look at how the network performs on the whole dataset.\n",
        "\n"
      ]
    },
    {
      "cell_type": "code",
      "metadata": {
        "id": "SZ4-5CESpoDD",
        "colab_type": "code",
        "outputId": "88025080-cd85-4a13-985f-0a348f2bd755",
        "colab": {
          "base_uri": "https://localhost:8080/",
          "height": 34
        }
      },
      "source": [
        "correct = 0\n",
        "total = 0\n",
        "with torch.no_grad():\n",
        "    for data in testloader:\n",
        "        images, labels = data\n",
        "        outputs = net(images)\n",
        "        _, predicted = torch.max(outputs.data, 1)\n",
        "        total += labels.size(0)\n",
        "        correct += (predicted == labels).sum().item()\n",
        "\n",
        "print('Accuracy of the network on the 10000 test images: %d %%' % (\n",
        "    100 * correct / total))"
      ],
      "execution_count": 106,
      "outputs": [
        {
          "output_type": "stream",
          "text": [
            "Accuracy of the network on the 10000 test images: 77 %\n"
          ],
          "name": "stdout"
        }
      ]
    },
    {
      "cell_type": "markdown",
      "metadata": {
        "id": "eDdwPBl8poDF",
        "colab_type": "text"
      },
      "source": [
        "That looks waaay better than chance, which is 10% accuracy (randomly picking\n",
        "a class out of 10 classes).\n",
        "Seems like the network learnt something.\n",
        "\n",
        "Hmmm, what are the classes that performed well, and the classes that did\n",
        "not perform well:\n",
        "\n"
      ]
    },
    {
      "cell_type": "code",
      "metadata": {
        "id": "pDNFuDEDpoDG",
        "colab_type": "code",
        "outputId": "740d0e11-6126-4f0f-8ff6-5cce9b0131e4",
        "colab": {
          "base_uri": "https://localhost:8080/",
          "height": 187
        }
      },
      "source": [
        "class_correct = list(0. for i in range(10))\n",
        "class_total = list(0. for i in range(10))\n",
        "with torch.no_grad():\n",
        "    for data in testloader:\n",
        "        images, labels = data\n",
        "        outputs = net(images)\n",
        "        _, predicted = torch.max(outputs, 1)\n",
        "        c = (predicted == labels).squeeze()\n",
        "        for i in range(4):\n",
        "            label = labels[i]\n",
        "            class_correct[label] += c[i].item()\n",
        "            class_total[label] += 1\n",
        "\n",
        "\n",
        "for i in range(10):\n",
        "    print('Accuracy of %5s : %2d %%' % (\n",
        "        classes[i], 100 * class_correct[i] / class_total[i]))"
      ],
      "execution_count": 107,
      "outputs": [
        {
          "output_type": "stream",
          "text": [
            "Accuracy of plane : 81 %\n",
            "Accuracy of   car : 87 %\n",
            "Accuracy of  bird : 70 %\n",
            "Accuracy of   cat : 62 %\n",
            "Accuracy of  deer : 72 %\n",
            "Accuracy of   dog : 66 %\n",
            "Accuracy of  frog : 82 %\n",
            "Accuracy of horse : 80 %\n",
            "Accuracy of  ship : 84 %\n",
            "Accuracy of truck : 83 %\n"
          ],
          "name": "stdout"
        }
      ]
    },
    {
      "cell_type": "code",
      "metadata": {
        "id": "RGaklwfAQre1",
        "colab_type": "code",
        "outputId": "12bb0ad9-ed01-474d-b9fc-55c55d5b95e1",
        "colab": {
          "base_uri": "https://localhost:8080/",
          "height": 68
        }
      },
      "source": [
        "#Adding Module for GradCam to resnet18\n",
        "!pip install pytorch-gradcam\n"
      ],
      "execution_count": 108,
      "outputs": [
        {
          "output_type": "stream",
          "text": [
            "Requirement already satisfied: pytorch-gradcam in /usr/local/lib/python3.6/dist-packages (0.2.1)\n",
            "Requirement already satisfied: numpy in /usr/local/lib/python3.6/dist-packages (from pytorch-gradcam) (1.18.4)\n",
            "Requirement already satisfied: opencv-python in /usr/local/lib/python3.6/dist-packages (from pytorch-gradcam) (4.1.2.30)\n"
          ],
          "name": "stdout"
        }
      ]
    },
    {
      "cell_type": "code",
      "metadata": {
        "id": "W0Lg83201hxH",
        "colab_type": "code",
        "colab": {}
      },
      "source": [
        "import torchvision.models as models\n",
        "from gradcam import *"
      ],
      "execution_count": 0,
      "outputs": []
    },
    {
      "cell_type": "code",
      "metadata": {
        "id": "UXFjEKC-Wxhh",
        "colab_type": "code",
        "colab": {}
      },
      "source": [
        "#GradCAM Module\n",
        "\n",
        "class GradCam:\n",
        "    def __init__(self, model, feature_module, target_layer_names, use_cuda):\n",
        "        self.model = model\n",
        "        self.feature_module = feature_module\n",
        "        self.model.eval()\n",
        "        self.cuda = use_cuda\n",
        "        if self.cuda:\n",
        "            self.model = model.cuda()\n",
        "\n",
        "        self.extractor = ModelOutputs(self.model, self.feature_module, target_layer_names)\n",
        "\n",
        "    def forward(self, input):\n",
        "        return self.model(input)\n",
        "\n",
        "    def __call__(self, input, index=None):\n",
        "        if self.cuda:\n",
        "            features, output = self.extractor(input.cuda())\n",
        "        else:\n",
        "            features, output = self.extractor(input)\n",
        "\n",
        "        if index == None:\n",
        "            index = np.argmax(output.cpu().data.numpy())\n",
        "\n",
        "        one_hot = np.zeros((1, output.size()[-1]), dtype=np.float32)\n",
        "        one_hot[0][index] = 1\n",
        "        one_hot = torch.from_numpy(one_hot).requires_grad_(True)\n",
        "        if self.cuda:\n",
        "            one_hot = torch.sum(one_hot.cuda() * output)\n",
        "        else:\n",
        "            one_hot = torch.sum(one_hot * output)\n",
        "\n",
        "        self.feature_module.zero_grad()\n",
        "        self.model.zero_grad()\n",
        "        one_hot.backward(retain_graph=True)\n",
        "\n",
        "        grads_val = self.extractor.get_gradients()[-1].cpu().data.numpy()\n",
        "\n",
        "        target = features[-1]\n",
        "        target = target.cpu().data.numpy()[0, :]\n",
        "\n",
        "        weights = np.mean(grads_val, axis=(2, 3))[0, :]\n",
        "        cam = np.zeros(target.shape[1:], dtype=np.float32)\n",
        "\n",
        "        for i, w in enumerate(weights):\n",
        "            cam += w * target[i, :, :]\n",
        "\n",
        "        cam = np.maximum(cam, 0)\n",
        "        cam = cv2.resize(cam, input.shape[2:])\n",
        "        cam = cam - np.min(cam)\n",
        "        cam = cam / np.max(cam)\n",
        "        return cam\n",
        "      "
      ],
      "execution_count": 0,
      "outputs": []
    },
    {
      "cell_type": "code",
      "metadata": {
        "id": "SNT5cPZH62-n",
        "colab_type": "code",
        "colab": {}
      },
      "source": [
        "\n",
        "import argparse\n",
        "\n",
        "def preprocess_image(img):\n",
        "    means = [0.5, 0.5, 0.5]\n",
        "    stds = [0.5, 0.5, 0.5]\n",
        "\n",
        "    preprocessed_img = img.copy()[:, :, ::-1]\n",
        "    for i in range(3):\n",
        "        preprocessed_img[:, :, i] = preprocessed_img[:, :, i] - means[i]\n",
        "        preprocessed_img[:, :, i] = preprocessed_img[:, :, i] / stds[i]\n",
        "    preprocessed_img = \\\n",
        "        np.ascontiguousarray(np.transpose(preprocessed_img, (2, 0, 1)))\n",
        "    preprocessed_img = torch.from_numpy(preprocessed_img)\n",
        "    preprocessed_img.unsqueeze_(0)\n",
        "    input = preprocessed_img.requires_grad_(True)\n",
        "    return input\n",
        "\n",
        "\n",
        "def get_args():\n",
        "    parser = argparse.ArgumentParser()\n",
        "    #parser.add_argument('--use-cuda', action='store_true', default=False,\n",
        "    #                    help='Use NVIDIA GPU acceleration')\n",
        "    #parser.add_argument('--image-path', type=str, default='./examples/both.png',\n",
        "    #                    help='Input image path')\n",
        "    args = parser.parse_args()\n",
        "    args.use_cuda = args.use_cuda and torch.cuda.is_available()\n",
        "    if args.use_cuda:\n",
        "        print(\"Using GPU for acceleration\")\n",
        "    else:\n",
        "        print(\"Using CPU for computation\")\n",
        "\n",
        "    return args"
      ],
      "execution_count": 0,
      "outputs": []
    },
    {
      "cell_type": "code",
      "metadata": {
        "id": "oOe7JJ1R6XZ5",
        "colab_type": "code",
        "colab": {}
      },
      "source": [
        "# Can work with any model, but it assumes that the model has a\n",
        "# feature method, and a classifier method,\n",
        "# as in the VGG models in torchvision.\n",
        "\n",
        "#Running GradCAM on Resnet18 model\n",
        "\n",
        "args = get_args()\n",
        "model = models.resnet18(pretrained=True)\n",
        "grad_cam = GradCam(model=model, feature_module=model.layer4, \\\n",
        "                       target_layer_names=[\"2\"], use_cuda=args.use_cuda)\n",
        "img, _ = next(iter(trainloader))\n",
        "input = preprocess_image(img)\n",
        "\n",
        "# If None, returns the map for the highest scoring category.\n",
        "# Otherwise, targets the requested index.\n",
        "target_index = None\n",
        "mask = grad_cam(input, target_index)\n",
        "\n",
        "show_cam_on_image(img, mask)"
      ],
      "execution_count": 0,
      "outputs": []
    }
  ]
}