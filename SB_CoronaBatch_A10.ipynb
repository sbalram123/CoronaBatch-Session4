{
  "nbformat": 4,
  "nbformat_minor": 0,
  "metadata": {
    "kernelspec": {
      "name": "python3",
      "display_name": "Python 3"
    },
    "language_info": {
      "codemirror_mode": {
        "name": "ipython",
        "version": 3
      },
      "file_extension": ".py",
      "mimetype": "text/x-python",
      "name": "python",
      "nbconvert_exporter": "python",
      "pygments_lexer": "ipython3",
      "version": "3.6.6"
    },
    "colab": {
      "name": "SB CoronaBatch - A10.ipynb",
      "provenance": [],
      "collapsed_sections": [],
      "include_colab_link": true
    },
    "accelerator": "GPU",
    "widgets": {
      "application/vnd.jupyter.widget-state+json": {
        "0f39128c701c41448cb65b4c64e6552e": {
          "model_module": "@jupyter-widgets/controls",
          "model_name": "HBoxModel",
          "state": {
            "_view_name": "HBoxView",
            "_dom_classes": [],
            "_model_name": "HBoxModel",
            "_view_module": "@jupyter-widgets/controls",
            "_model_module_version": "1.5.0",
            "_view_count": null,
            "_view_module_version": "1.5.0",
            "box_style": "",
            "layout": "IPY_MODEL_9aa15a5f16254f439dd256e087b2ba62",
            "_model_module": "@jupyter-widgets/controls",
            "children": [
              "IPY_MODEL_b279ebe5ea064602b04917b1cbf56608",
              "IPY_MODEL_598d0134243e4105a452b753dbe60d0a"
            ]
          }
        },
        "9aa15a5f16254f439dd256e087b2ba62": {
          "model_module": "@jupyter-widgets/base",
          "model_name": "LayoutModel",
          "state": {
            "_view_name": "LayoutView",
            "grid_template_rows": null,
            "right": null,
            "justify_content": null,
            "_view_module": "@jupyter-widgets/base",
            "overflow": null,
            "_model_module_version": "1.2.0",
            "_view_count": null,
            "flex_flow": null,
            "width": null,
            "min_width": null,
            "border": null,
            "align_items": null,
            "bottom": null,
            "_model_module": "@jupyter-widgets/base",
            "top": null,
            "grid_column": null,
            "overflow_y": null,
            "overflow_x": null,
            "grid_auto_flow": null,
            "grid_area": null,
            "grid_template_columns": null,
            "flex": null,
            "_model_name": "LayoutModel",
            "justify_items": null,
            "grid_row": null,
            "max_height": null,
            "align_content": null,
            "visibility": null,
            "align_self": null,
            "height": null,
            "min_height": null,
            "padding": null,
            "grid_auto_rows": null,
            "grid_gap": null,
            "max_width": null,
            "order": null,
            "_view_module_version": "1.2.0",
            "grid_template_areas": null,
            "object_position": null,
            "object_fit": null,
            "grid_auto_columns": null,
            "margin": null,
            "display": null,
            "left": null
          }
        },
        "b279ebe5ea064602b04917b1cbf56608": {
          "model_module": "@jupyter-widgets/controls",
          "model_name": "FloatProgressModel",
          "state": {
            "_view_name": "ProgressView",
            "style": "IPY_MODEL_2df0ace48fe24bfbbd9ef3a9629cc78a",
            "_dom_classes": [],
            "description": " 23%",
            "_model_name": "FloatProgressModel",
            "bar_style": "danger",
            "max": 1000,
            "_view_module": "@jupyter-widgets/controls",
            "_model_module_version": "1.5.0",
            "value": 233,
            "_view_count": null,
            "_view_module_version": "1.5.0",
            "orientation": "horizontal",
            "min": 0,
            "description_tooltip": null,
            "_model_module": "@jupyter-widgets/controls",
            "layout": "IPY_MODEL_cd0baf77115a4e9f87b2c10279a2fde2"
          }
        },
        "598d0134243e4105a452b753dbe60d0a": {
          "model_module": "@jupyter-widgets/controls",
          "model_name": "HTMLModel",
          "state": {
            "_view_name": "HTMLView",
            "style": "IPY_MODEL_40d12371fb2e4443b3133be06b51440b",
            "_dom_classes": [],
            "description": "",
            "_model_name": "HTMLModel",
            "placeholder": "​",
            "_view_module": "@jupyter-widgets/controls",
            "_model_module_version": "1.5.0",
            "value": " 233/1000 [00:03&lt;00:11, 68.65it/s]",
            "_view_count": null,
            "_view_module_version": "1.5.0",
            "description_tooltip": null,
            "_model_module": "@jupyter-widgets/controls",
            "layout": "IPY_MODEL_1a1726d23f1348158d5ca2a2c052fa97"
          }
        },
        "2df0ace48fe24bfbbd9ef3a9629cc78a": {
          "model_module": "@jupyter-widgets/controls",
          "model_name": "ProgressStyleModel",
          "state": {
            "_view_name": "StyleView",
            "_model_name": "ProgressStyleModel",
            "description_width": "initial",
            "_view_module": "@jupyter-widgets/base",
            "_model_module_version": "1.5.0",
            "_view_count": null,
            "_view_module_version": "1.2.0",
            "bar_color": null,
            "_model_module": "@jupyter-widgets/controls"
          }
        },
        "cd0baf77115a4e9f87b2c10279a2fde2": {
          "model_module": "@jupyter-widgets/base",
          "model_name": "LayoutModel",
          "state": {
            "_view_name": "LayoutView",
            "grid_template_rows": null,
            "right": null,
            "justify_content": null,
            "_view_module": "@jupyter-widgets/base",
            "overflow": null,
            "_model_module_version": "1.2.0",
            "_view_count": null,
            "flex_flow": null,
            "width": null,
            "min_width": null,
            "border": null,
            "align_items": null,
            "bottom": null,
            "_model_module": "@jupyter-widgets/base",
            "top": null,
            "grid_column": null,
            "overflow_y": null,
            "overflow_x": null,
            "grid_auto_flow": null,
            "grid_area": null,
            "grid_template_columns": null,
            "flex": null,
            "_model_name": "LayoutModel",
            "justify_items": null,
            "grid_row": null,
            "max_height": null,
            "align_content": null,
            "visibility": null,
            "align_self": null,
            "height": null,
            "min_height": null,
            "padding": null,
            "grid_auto_rows": null,
            "grid_gap": null,
            "max_width": null,
            "order": null,
            "_view_module_version": "1.2.0",
            "grid_template_areas": null,
            "object_position": null,
            "object_fit": null,
            "grid_auto_columns": null,
            "margin": null,
            "display": null,
            "left": null
          }
        },
        "40d12371fb2e4443b3133be06b51440b": {
          "model_module": "@jupyter-widgets/controls",
          "model_name": "DescriptionStyleModel",
          "state": {
            "_view_name": "StyleView",
            "_model_name": "DescriptionStyleModel",
            "description_width": "",
            "_view_module": "@jupyter-widgets/base",
            "_model_module_version": "1.5.0",
            "_view_count": null,
            "_view_module_version": "1.2.0",
            "_model_module": "@jupyter-widgets/controls"
          }
        },
        "1a1726d23f1348158d5ca2a2c052fa97": {
          "model_module": "@jupyter-widgets/base",
          "model_name": "LayoutModel",
          "state": {
            "_view_name": "LayoutView",
            "grid_template_rows": null,
            "right": null,
            "justify_content": null,
            "_view_module": "@jupyter-widgets/base",
            "overflow": null,
            "_model_module_version": "1.2.0",
            "_view_count": null,
            "flex_flow": null,
            "width": null,
            "min_width": null,
            "border": null,
            "align_items": null,
            "bottom": null,
            "_model_module": "@jupyter-widgets/base",
            "top": null,
            "grid_column": null,
            "overflow_y": null,
            "overflow_x": null,
            "grid_auto_flow": null,
            "grid_area": null,
            "grid_template_columns": null,
            "flex": null,
            "_model_name": "LayoutModel",
            "justify_items": null,
            "grid_row": null,
            "max_height": null,
            "align_content": null,
            "visibility": null,
            "align_self": null,
            "height": null,
            "min_height": null,
            "padding": null,
            "grid_auto_rows": null,
            "grid_gap": null,
            "max_width": null,
            "order": null,
            "_view_module_version": "1.2.0",
            "grid_template_areas": null,
            "object_position": null,
            "object_fit": null,
            "grid_auto_columns": null,
            "margin": null,
            "display": null,
            "left": null
          }
        }
      }
    }
  },
  "cells": [
    {
      "cell_type": "markdown",
      "metadata": {
        "id": "view-in-github",
        "colab_type": "text"
      },
      "source": [
        "<a href=\"https://colab.research.google.com/github/sbalram123/CoronaBatch-Session4/blob/master/SB_CoronaBatch_A10.ipynb\" target=\"_parent\"><img src=\"https://colab.research.google.com/assets/colab-badge.svg\" alt=\"Open In Colab\"/></a>"
      ]
    },
    {
      "cell_type": "code",
      "metadata": {
        "id": "QVbdg0z4poCc",
        "colab_type": "code",
        "colab": {}
      },
      "source": [
        "  %matplotlib inline"
      ],
      "execution_count": 0,
      "outputs": []
    },
    {
      "cell_type": "markdown",
      "metadata": {
        "id": "DBBW8ye1xT5t",
        "colab_type": "text"
      },
      "source": [
        ""
      ]
    },
    {
      "cell_type": "code",
      "metadata": {
        "id": "-yVpodAMpoCi",
        "colab_type": "code",
        "outputId": "ae547024-6646-47a4-cebc-3395d76d7c5c",
        "colab": {
          "base_uri": "https://localhost:8080/",
          "height": 51
        }
      },
      "source": [
        "!pip install -U git+https://github.com/albu/albumentations > /dev/null && echo \"All libraries are successfully installed!\"\n",
        "import torch\n",
        "import torchvision\n",
        "import torchvision.transforms as transforms\n",
        "import albumentations.augmentations.transforms as al_transforms\n",
        "\n",
        "# CoronaBatch : Sangeeta, Monish, Ashish, Ashwin"
      ],
      "execution_count": 0,
      "outputs": [
        {
          "output_type": "stream",
          "text": [
            "  Running command git clone -q https://github.com/albu/albumentations /tmp/pip-req-build-ose68pmu\n",
            "All libraries are successfully installed!\n"
          ],
          "name": "stdout"
        }
      ]
    },
    {
      "cell_type": "code",
      "metadata": {
        "id": "D8Tjigo2poCl",
        "colab_type": "code",
        "outputId": "686dd0b3-43ac-47c5-c3f9-27be75ca1aa6",
        "colab": {
          "base_uri": "https://localhost:8080/",
          "height": 51
        }
      },
      "source": [
        "transform = transforms.Compose(\n",
        "    [transforms.ToTensor(),\n",
        "     transforms.Normalize((0.5, 0.5, 0.5), (0.5, 0.5, 0.5))])\n",
        "\n",
        "\n",
        "\n",
        "trainset = torchvision.datasets.CIFAR10(root='./data', train=True,\n",
        "                                        download=True, transform=transform)\n",
        "trainloader = torch.utils.data.DataLoader(trainset, batch_size=4,\n",
        "                                          shuffle=True, num_workers=2)\n",
        "\n",
        "testset = torchvision.datasets.CIFAR10(root='./data', train=False,\n",
        "                                       download=True, transform=transform)\n",
        "testloader = torch.utils.data.DataLoader(testset, batch_size=4,\n",
        "                                         shuffle=False, num_workers=2)\n",
        "\n",
        "\n",
        "\n",
        "classes = ('plane', 'car', 'bird', 'cat',\n",
        "           'deer', 'dog', 'frog', 'horse', 'ship', 'truck')"
      ],
      "execution_count": 0,
      "outputs": [
        {
          "output_type": "stream",
          "text": [
            "Files already downloaded and verified\n",
            "Files already downloaded and verified\n"
          ],
          "name": "stdout"
        }
      ]
    },
    {
      "cell_type": "markdown",
      "metadata": {
        "id": "_cj433rtpoCn",
        "colab_type": "text"
      },
      "source": [
        "Let us show some of the training images, for fun.\n",
        "\n"
      ]
    },
    {
      "cell_type": "code",
      "metadata": {
        "id": "daA7bADhpoCo",
        "colab_type": "code",
        "outputId": "1993d2f2-1ced-4da4-d7a9-f3629fdbfa2a",
        "colab": {
          "base_uri": "https://localhost:8080/",
          "height": 155
        }
      },
      "source": [
        "import matplotlib.pyplot as plt\n",
        "import numpy as np\n",
        "\n",
        "\n",
        "def imshow(img):\n",
        "    img = img / 2 + 0.5     # unnormalize\n",
        "    npimg = img.numpy()\n",
        "    plt.imshow(np.transpose(npimg, (1, 2, 0)))\n",
        "\n",
        "\n",
        "\n",
        "# get some random training images\n",
        "dataiter = iter(trainloader)\n",
        "images, labels = dataiter.next()\n",
        "\n",
        "#Adding Horizontal Flip from Albumentation only to Train dataset\n",
        "\n",
        "# always_apply=False, p=0.5\n",
        "al_transforms.HorizontalFlip(images)\n",
        "\n",
        "#Adding Cutout from Albumentation only to Train dataset\n",
        "al_transforms.Cutout(num_holes=8, max_h_size=8, max_w_size=8, fill_value=0, always_apply=False, p=0.5)\n",
        "\n",
        "\n",
        "# show images\n",
        "imshow(torchvision.utils.make_grid(images))\n",
        "# print labels\n",
        "print(' '.join('%5s' % classes[labels[j]] for j in range(4)))\n",
        "\n",
        "\n"
      ],
      "execution_count": 0,
      "outputs": [
        {
          "output_type": "stream",
          "text": [
            " deer  deer  deer  deer\n"
          ],
          "name": "stdout"
        },
        {
          "output_type": "display_data",
          "data": {
            "image/png": "[encoded data removed]",
            "text/plain": [
              "<Figure size 432x288 with 1 Axes>"
            ]
          },
          "metadata": {
            "tags": [],
            "needs_background": "light"
          }
        }
      ]
    },
    {
      "cell_type": "code",
      "metadata": {
        "id": "vzlV4bAlkzgM",
        "colab_type": "code",
        "colab": {}
      },
      "source": [
        "    def get_data_loader(self, train, test, batch_size=128):\n",
        "        SEED = 1\n",
        "        # CUDA?\n",
        "        cuda = torch.cuda.is_available()\n",
        "        print(\"CUDA Available?\", cuda)\n",
        "\n",
        "        # For reproducibility\n",
        "        torch.manual_seed(SEED)\n",
        "\n",
        "        if cuda:\n",
        "            torch.cuda.manual_seed(SEED)\n",
        "\n",
        "        # dataloader arguments - something you'll fetch these from cmdprmt\n",
        "        dataloader_args = dict(shuffle=True, batch_size=batch_size, num_workers=4, pin_memory=True) if cuda else dict(shuffle=True, batch_size=64)\n",
        "\n",
        "        # train dataloader\n",
        "        train_loader = torch.utils.data.DataLoader(train, **dataloader_args)\n",
        "\n",
        "        # test dataloader\n",
        "        test_loader = torch.utils.data.DataLoader(test, **dataloader_args)\n",
        "        return train_loader, test_loader"
      ],
      "execution_count": 0,
      "outputs": []
    },
    {
      "cell_type": "markdown",
      "metadata": {
        "id": "28OpHA_LpoCq",
        "colab_type": "text"
      },
      "source": [
        "2. Define a Convolution Neural Network\n",
        "^^^^^^^^^^^^^^^^^^^^^^^^^^^^^^^^^^^^^^\n",
        "Copy the neural network from the Neural Networks section before and modify it to\n",
        "take 3-channel images (instead of 1-channel images as it was defined).\n",
        "\n"
      ]
    },
    {
      "cell_type": "code",
      "metadata": {
        "id": "0jjLwLLQpoCr",
        "colab_type": "code",
        "colab": {}
      },
      "source": [
        "  # return nn.Sequential(nn.Conv2d(nin, nin * kernels_per_layer, kernel_size=3, padding=1, groups=nin),\n",
        "  #                       nn.Conv2d(nin * kernels_per_layer, nout, kernel_size=1),\n",
        "  #                       nn.ReLU(),            \n",
        "  #                       nn.BatchNorm2d(nout),\n",
        "  #                       nn.Dropout(dropout))\n",
        "\n",
        "\n",
        "\n",
        "import torch.nn as nn\n",
        "import torch.nn.functional as F\n",
        "\n",
        "dropout = 0.09 \n",
        "class Net(nn.Module):\n",
        "    def __init__(self):\n",
        "        super(Net, self).__init__()       \n",
        "        self.model = nn.Sequential(\n",
        "                                nn.Conv2d(in_channels=3, out_channels=32, kernel_size=(3,3), padding= 0, bias= False, dilation = 2),\n",
        "                                nn.ReLU(),            \n",
        "                                nn.BatchNorm2d(32),\n",
        "                                nn.Dropout(dropout),\n",
        "\n",
        "                                # Depthwize Convolution Code Starts *************************\n",
        "                                nn.Conv2d(32, 32, kernel_size=3, padding=1, groups=32),\n",
        "                                nn.Conv2d(32, 64, kernel_size=1, padding=1),\n",
        "                                nn.ReLU(),            \n",
        "                                nn.BatchNorm2d(64),\n",
        "                                nn.Dropout(dropout),\n",
        "                                # Depthwize Convolution Code Ends ***************************\n",
        "\n",
        "                                nn.MaxPool2d(2,2),\n",
        "\n",
        "                                # Depthwize Convolution Code Starts *************************\n",
        "                                nn.Conv2d(64, 64, kernel_size=3, padding=1, groups=64),\n",
        "                                nn.Conv2d(64, 128, kernel_size=1, padding=1),\n",
        "                                nn.ReLU(),            \n",
        "                                nn.BatchNorm2d(128),\n",
        "                                nn.Dropout(dropout),\n",
        "                                # Depthwize Convolution Code Ends ***************************\n",
        "\n",
        "                                nn.MaxPool2d(2,2),\n",
        "\n",
        "                                # Depthwize Convolution Code Starts *************************\n",
        "                                nn.Conv2d(128, 128, kernel_size=3, padding=1, groups=128),\n",
        "                                nn.Conv2d(128, 128, kernel_size=1),\n",
        "                                nn.ReLU(),            \n",
        "                                nn.BatchNorm2d(128),\n",
        "                                nn.Dropout(dropout),\n",
        "                                # Depthwize Convolution Code Ends *************************\n",
        "\n",
        "                                nn.MaxPool2d(2,2),\n",
        "\n",
        "                                # Depthwize Convolution Code Starts *************************\n",
        "                                nn.Conv2d(128, 128, kernel_size=3, padding=1, groups=128),\n",
        "                                nn.Conv2d(128, 470, kernel_size=1),\n",
        "                                nn.ReLU(),            \n",
        "                                nn.BatchNorm2d(470),\n",
        "                                nn.Dropout(dropout),\n",
        "                                # Depthwize Convolution Code Ends *************************\n",
        "\n",
        "                                nn.AvgPool2d(kernel_size= 3),\n",
        "                                nn.Conv2d(in_channels=470, out_channels=10, kernel_size=(1, 1), padding=0, bias=False),                        \n",
        "                                )\n",
        "    \n",
        "    def forward(self,x):\n",
        "      x = self.model(x)\n",
        "      x=x.view(-1,10)\n",
        "      return F.log_softmax(x, dim= -1)\n",
        "\n",
        "\n",
        "net = Net()"
      ],
      "execution_count": 0,
      "outputs": []
    },
    {
      "cell_type": "markdown",
      "metadata": {
        "id": "Wdw2NNCUpoCu",
        "colab_type": "text"
      },
      "source": [
        "3. Define a Loss function and optimizer\n",
        "^^^^^^^^^^^^^^^^^^^^^^^^^^^^^^^^^^^^^^^\n",
        "Let's use a Classification Cross-Entropy loss and SGD with momentum.\n",
        "\n"
      ]
    },
    {
      "cell_type": "code",
      "metadata": {
        "id": "lNwqILuAAxKI",
        "colab_type": "code",
        "outputId": "fe2ed62b-ce30-467c-be94-2a9ff86ca817",
        "colab": {
          "base_uri": "https://localhost:8080/",
          "height": 553,
          "referenced_widgets": [
            "0f39128c701c41448cb65b4c64e6552e",
            "9aa15a5f16254f439dd256e087b2ba62",
            "b279ebe5ea064602b04917b1cbf56608",
            "598d0134243e4105a452b753dbe60d0a",
            "2df0ace48fe24bfbbd9ef3a9629cc78a",
            "cd0baf77115a4e9f87b2c10279a2fde2",
            "40d12371fb2e4443b3133be06b51440b",
            "1a1726d23f1348158d5ca2a2c052fa97"
          ]
        }
      },
      "source": [
        "!pip install torch-lr-finder\n",
        "from torch_lr_finder import LRFinder\n",
        "import torch.optim as optim\n",
        "\n",
        "\n",
        "#Optimizer \n",
        "criterion = nn.CrossEntropyLoss()\n",
        "optimizer = optim.SGD(net.parameters(), lr=0.1, momentum=0.001)\n",
        "\n",
        "#LR Finder\n",
        "lr_finder = LRFinder(net, optimizer, criterion, device=\"cuda\")\n",
        "lr_finder.range_test(trainloader, end_lr=10000, num_iter=1000)\n",
        "lr_finder.plot() # to inspect the loss-learning rate graph\n",
        "lr_finder.reset() # to reset the model and optimizer to their initial state\n",
        "\n",
        "\n",
        "#Reduce LR on Plateau\n",
        "scheduler = torch.optim.lr_scheduler.ReduceLROnPlateau(optimizer, 'min')"
      ],
      "execution_count": 0,
      "outputs": [
        {
          "output_type": "stream",
          "text": [
            "Requirement already satisfied: torch-lr-finder in /usr/local/lib/python3.6/dist-packages (0.1.5)\n",
            "Requirement already satisfied: tqdm in /usr/local/lib/python3.6/dist-packages (from torch-lr-finder) (4.41.1)\n",
            "Requirement already satisfied: numpy in /usr/local/lib/python3.6/dist-packages (from torch-lr-finder) (1.18.4)\n",
            "Requirement already satisfied: torch>=0.4.1 in /usr/local/lib/python3.6/dist-packages (from torch-lr-finder) (1.5.0+cu101)\n",
            "Requirement already satisfied: matplotlib in /usr/local/lib/python3.6/dist-packages (from torch-lr-finder) (3.2.1)\n",
            "Requirement already satisfied: future in /usr/local/lib/python3.6/dist-packages (from torch>=0.4.1->torch-lr-finder) (0.16.0)\n",
            "Requirement already satisfied: python-dateutil>=2.1 in /usr/local/lib/python3.6/dist-packages (from matplotlib->torch-lr-finder) (2.8.1)\n",
            "Requirement already satisfied: pyparsing!=2.0.4,!=2.1.2,!=2.1.6,>=2.0.1 in /usr/local/lib/python3.6/dist-packages (from matplotlib->torch-lr-finder) (2.4.7)\n",
            "Requirement already satisfied: kiwisolver>=1.0.1 in /usr/local/lib/python3.6/dist-packages (from matplotlib->torch-lr-finder) (1.2.0)\n",
            "Requirement already satisfied: cycler>=0.10 in /usr/local/lib/python3.6/dist-packages (from matplotlib->torch-lr-finder) (0.10.0)\n",
            "Requirement already satisfied: six>=1.5 in /usr/local/lib/python3.6/dist-packages (from python-dateutil>=2.1->matplotlib->torch-lr-finder) (1.12.0)\n"
          ],
          "name": "stdout"
        },
        {
          "output_type": "display_data",
          "data": {
            "application/vnd.jupyter.widget-view+json": {
              "model_id": "0f39128c701c41448cb65b4c64e6552e",
              "version_minor": 0,
              "version_major": 2
            },
            "text/plain": [
              "HBox(children=(FloatProgress(value=0.0, max=1000.0), HTML(value='')))"
            ]
          },
          "metadata": {
            "tags": []
          }
        },
        {
          "output_type": "stream",
          "text": [
            "Stopping early, the loss has diverged\n",
            "Learning rate search finished. See the graph with {finder_name}.plot()\n",
            "\n"
          ],
          "name": "stdout"
        },
        {
          "output_type": "display_data",
          "data": {
            "image/png": "[encoded data removed]",
            "text/plain": [
              "<Figure size 432x288 with 1 Axes>"
            ]
          },
          "metadata": {
            "tags": [],
            "needs_background": "light"
          }
        }
      ]
    },
    {
      "cell_type": "code",
      "metadata": {
        "id": "cuFDvUOtkSet",
        "colab_type": "code",
        "outputId": "5acab97d-7fd5-487e-f94b-f1c9f019ebe6",
        "colab": {
          "base_uri": "https://localhost:8080/",
          "height": 748
        }
      },
      "source": [
        "from torchsummary import summary\n",
        "use_cuda = torch.cuda.is_available()\n",
        "device = torch.device(\"cuda\" if use_cuda else \"cpu\")\n",
        "print(device)\n",
        "model = Net().to(device)\n",
        "summary(model, input_size=(3, 32, 32))"
      ],
      "execution_count": 0,
      "outputs": [
        {
          "output_type": "stream",
          "text": [
            "cuda\n",
            "----------------------------------------------------------------\n",
            "        Layer (type)               Output Shape         Param #\n",
            "================================================================\n",
            "            Conv2d-1           [-1, 32, 28, 28]             864\n",
            "              ReLU-2           [-1, 32, 28, 28]               0\n",
            "       BatchNorm2d-3           [-1, 32, 28, 28]              64\n",
            "           Dropout-4           [-1, 32, 28, 28]               0\n",
            "            Conv2d-5           [-1, 32, 28, 28]             320\n",
            "            Conv2d-6           [-1, 64, 30, 30]           2,112\n",
            "              ReLU-7           [-1, 64, 30, 30]               0\n",
            "       BatchNorm2d-8           [-1, 64, 30, 30]             128\n",
            "           Dropout-9           [-1, 64, 30, 30]               0\n",
            "        MaxPool2d-10           [-1, 64, 15, 15]               0\n",
            "           Conv2d-11           [-1, 64, 15, 15]             640\n",
            "           Conv2d-12          [-1, 128, 17, 17]           8,320\n",
            "             ReLU-13          [-1, 128, 17, 17]               0\n",
            "      BatchNorm2d-14          [-1, 128, 17, 17]             256\n",
            "          Dropout-15          [-1, 128, 17, 17]               0\n",
            "        MaxPool2d-16            [-1, 128, 8, 8]               0\n",
            "           Conv2d-17            [-1, 128, 8, 8]           1,280\n",
            "           Conv2d-18            [-1, 128, 8, 8]          16,512\n",
            "             ReLU-19            [-1, 128, 8, 8]               0\n",
            "      BatchNorm2d-20            [-1, 128, 8, 8]             256\n",
            "          Dropout-21            [-1, 128, 8, 8]               0\n",
            "        MaxPool2d-22            [-1, 128, 4, 4]               0\n",
            "           Conv2d-23            [-1, 128, 4, 4]           1,280\n",
            "           Conv2d-24            [-1, 470, 4, 4]          60,630\n",
            "             ReLU-25            [-1, 470, 4, 4]               0\n",
            "      BatchNorm2d-26            [-1, 470, 4, 4]             940\n",
            "          Dropout-27            [-1, 470, 4, 4]               0\n",
            "        AvgPool2d-28            [-1, 470, 1, 1]               0\n",
            "           Conv2d-29             [-1, 10, 1, 1]           4,700\n",
            "================================================================\n",
            "Total params: 98,302\n",
            "Trainable params: 98,302\n",
            "Non-trainable params: 0\n",
            "----------------------------------------------------------------\n",
            "Input size (MB): 0.01\n",
            "Forward/backward pass size (MB): 4.70\n",
            "Params size (MB): 0.37\n",
            "Estimated Total Size (MB): 5.09\n",
            "----------------------------------------------------------------\n"
          ],
          "name": "stdout"
        }
      ]
    },
    {
      "cell_type": "markdown",
      "metadata": {
        "id": "O-odOrhdpoC2",
        "colab_type": "text"
      },
      "source": [
        "4. Train the network\n",
        "^^^^^^^^^^^^^^^^^^^^\n",
        "\n",
        "This is when things start to get interesting.\n",
        "We simply have to loop over our data iterator, and feed the inputs to the\n",
        "network and optimize.\n",
        "\n"
      ]
    },
    {
      "cell_type": "code",
      "metadata": {
        "id": "kkuRfo1IpoC3",
        "colab_type": "code",
        "outputId": "8baf968e-f0b2-4df1-f459-1beaafd0d1c8",
        "colab": {
          "base_uri": "https://localhost:8080/",
          "height": 1000
        }
      },
      "source": [
        "for epoch in range(10):  # loop over the dataset multiple times\n",
        "\n",
        "    running_loss = 0.0\n",
        "    for i, data in enumerate(trainloader, 0):\n",
        "        # get the inputs\n",
        "        inputs, labels = data\n",
        "\n",
        "        # zero the parameter gradients\n",
        "        optimizer.zero_grad()\n",
        "\n",
        "        # forward + backward + optimize\n",
        "        outputs = net(inputs)\n",
        "        loss = criterion(outputs, labels)\n",
        "        loss.backward()\n",
        "        optimizer.step()\n",
        "\n",
        "        # print statistics\n",
        "        running_loss += loss.item()\n",
        "        scheduler.step(running_loss)\n",
        "\n",
        "        if i % 2000 == 1999:    # print every 2000 mini-batches\n",
        "            print('[%d, %5d] loss: %.3f' %\n",
        "                  (epoch + 1, i + 1, running_loss / 2000))\n",
        "            running_loss = 0.0\n",
        "\n",
        "print('Finished Training')"
      ],
      "execution_count": 0,
      "outputs": [
        {
          "output_type": "stream",
          "text": [
            "[1,  2000] loss: 2.361\n",
            "[1,  4000] loss: 2.367\n",
            "[1,  6000] loss: 2.372\n",
            "[1,  8000] loss: 2.372\n",
            "[1, 10000] loss: 2.360\n",
            "[1, 12000] loss: 2.363\n",
            "[2,  2000] loss: 2.359\n",
            "[2,  4000] loss: 2.364\n",
            "[2,  6000] loss: 2.372\n",
            "[2,  8000] loss: 2.357\n",
            "[2, 10000] loss: 2.370\n",
            "[2, 12000] loss: 2.357\n",
            "[3,  2000] loss: 2.364\n",
            "[3,  4000] loss: 2.375\n",
            "[3,  6000] loss: 2.350\n",
            "[3,  8000] loss: 2.361\n",
            "[3, 10000] loss: 2.356\n",
            "[3, 12000] loss: 2.363\n",
            "[4,  2000] loss: 2.359\n",
            "[4,  4000] loss: 2.373\n",
            "[4,  6000] loss: 2.370\n",
            "[4,  8000] loss: 2.360\n",
            "[4, 10000] loss: 2.348\n",
            "[4, 12000] loss: 2.365\n",
            "[5,  2000] loss: 2.362\n",
            "[5,  4000] loss: 2.355\n",
            "[5,  6000] loss: 2.377\n",
            "[5,  8000] loss: 2.368\n",
            "[5, 10000] loss: 2.348\n",
            "[5, 12000] loss: 2.367\n",
            "[6,  2000] loss: 2.369\n",
            "[6,  4000] loss: 2.367\n",
            "[6,  6000] loss: 2.363\n",
            "[6,  8000] loss: 2.373\n",
            "[6, 10000] loss: 2.363\n",
            "[6, 12000] loss: 2.359\n",
            "[7,  2000] loss: 2.363\n",
            "[7,  4000] loss: 2.366\n",
            "[7,  6000] loss: 2.361\n",
            "[7,  8000] loss: 2.380\n",
            "[7, 10000] loss: 2.359\n",
            "[7, 12000] loss: 2.350\n",
            "[8,  2000] loss: 2.365\n",
            "[8,  4000] loss: 2.360\n",
            "[8,  6000] loss: 2.361\n",
            "[8,  8000] loss: 2.372\n",
            "[8, 10000] loss: 2.354\n",
            "[8, 12000] loss: 2.367\n",
            "[9,  2000] loss: 2.352\n",
            "[9,  4000] loss: 2.355\n",
            "[9,  6000] loss: 2.369\n",
            "[9,  8000] loss: 2.355\n",
            "[9, 10000] loss: 2.374\n",
            "[9, 12000] loss: 2.373\n",
            "[10,  2000] loss: 2.353\n",
            "[10,  4000] loss: 2.378\n",
            "[10,  6000] loss: 2.361\n",
            "[10,  8000] loss: 2.368\n",
            "[10, 10000] loss: 2.368\n",
            "[10, 12000] loss: 2.375\n",
            "Finished Training\n"
          ],
          "name": "stdout"
        }
      ]
    },
    {
      "cell_type": "markdown",
      "metadata": {
        "id": "YLrvL_fHpoC5",
        "colab_type": "text"
      },
      "source": [
        "5. Test the network on the test data\n",
        "^^^^^^^^^^^^^^^^^^^^^^^^^^^^^^^^^^^^\n",
        "\n",
        "We have trained the network for 2 passes over the training dataset.\n",
        "But we need to check if the network has learnt anything at all.\n",
        "\n",
        "We will check this by predicting the class label that the neural network\n",
        "outputs, and checking it against the ground-truth. If the prediction is\n",
        "correct, we add the sample to the list of correct predictions.\n",
        "\n",
        "Okay, first step. Let us display an image from the test set to get familiar.\n",
        "\n"
      ]
    },
    {
      "cell_type": "code",
      "metadata": {
        "id": "nizbsvw9poC6",
        "colab_type": "code",
        "outputId": "5e48a684-3ac2-4943-8062-09c25c1223a2",
        "colab": {
          "base_uri": "https://localhost:8080/",
          "height": 155
        }
      },
      "source": [
        "dataiter = iter(testloader)\n",
        "images, labels = dataiter.next()\n",
        "\n",
        "# print images\n",
        "imshow(torchvision.utils.make_grid(images))\n",
        "print('GroundTruth: ', ' '.join('%5s' % classes[labels[j]] for j in range(4)))"
      ],
      "execution_count": 0,
      "outputs": [
        {
          "output_type": "stream",
          "text": [
            "GroundTruth:    cat  ship  ship plane\n"
          ],
          "name": "stdout"
        },
        {
          "output_type": "display_data",
          "data": {
            "image/png": "[encoded data removed]",
            "text/plain": [
              "<Figure size 432x288 with 1 Axes>"
            ]
          },
          "metadata": {
            "tags": [],
            "needs_background": "light"
          }
        }
      ]
    },
    {
      "cell_type": "markdown",
      "metadata": {
        "id": "DAx4QPHVpoC8",
        "colab_type": "text"
      },
      "source": [
        "Okay, now let us see what the neural network thinks these examples above are:\n",
        "\n"
      ]
    },
    {
      "cell_type": "code",
      "metadata": {
        "id": "HVLjlssWpoC9",
        "colab_type": "code",
        "colab": {}
      },
      "source": [
        "outputs = net(images)"
      ],
      "execution_count": 0,
      "outputs": []
    },
    {
      "cell_type": "markdown",
      "metadata": {
        "id": "u8OTHZEApoC_",
        "colab_type": "text"
      },
      "source": [
        "The outputs are energies for the 10 classes.\n",
        "Higher the energy for a class, the more the network\n",
        "thinks that the image is of the particular class.\n",
        "So, let's get the index of the highest energy:\n",
        "\n"
      ]
    },
    {
      "cell_type": "code",
      "metadata": {
        "id": "ABRIDW3lpoDA",
        "colab_type": "code",
        "outputId": "13255e08-0d47-4d1f-e859-15900f04bae0",
        "colab": {
          "base_uri": "https://localhost:8080/",
          "height": 34
        }
      },
      "source": [
        "_, predicted = torch.max(outputs, 1)\n",
        "\n",
        "print('Predicted: ', ' '.join('%5s' % classes[predicted[j]]\n",
        "                              for j in range(4)))"
      ],
      "execution_count": 0,
      "outputs": [
        {
          "output_type": "stream",
          "text": [
            "Predicted:  plane   car  bird  bird\n"
          ],
          "name": "stdout"
        }
      ]
    },
    {
      "cell_type": "markdown",
      "metadata": {
        "id": "2TV0TXL1poDC",
        "colab_type": "text"
      },
      "source": [
        "The results seem pretty good.\n",
        "\n",
        "Let us look at how the network performs on the whole dataset.\n",
        "\n"
      ]
    },
    {
      "cell_type": "code",
      "metadata": {
        "id": "SZ4-5CESpoDD",
        "colab_type": "code",
        "outputId": "6f4c8158-bb1c-4a1e-dc88-002ace1805d7",
        "colab": {
          "base_uri": "https://localhost:8080/",
          "height": 34
        }
      },
      "source": [
        "correct = 0\n",
        "total = 0\n",
        "with torch.no_grad():\n",
        "    for data in testloader:\n",
        "        images, labels = data\n",
        "        outputs = net(images)\n",
        "        _, predicted = torch.max(outputs.data, 1)\n",
        "        total += labels.size(0)\n",
        "        correct += (predicted == labels).sum().item()\n",
        "\n",
        "print('Accuracy of the network on the 10000 test images: %d %%' % (\n",
        "    100 * correct / total))"
      ],
      "execution_count": 0,
      "outputs": [
        {
          "output_type": "stream",
          "text": [
            "Accuracy of the network on the 10000 test images: 16 %\n"
          ],
          "name": "stdout"
        }
      ]
    },
    {
      "cell_type": "markdown",
      "metadata": {
        "id": "eDdwPBl8poDF",
        "colab_type": "text"
      },
      "source": [
        "That looks waaay better than chance, which is 10% accuracy (randomly picking\n",
        "a class out of 10 classes).\n",
        "Seems like the network learnt something.\n",
        "\n",
        "Hmmm, what are the classes that performed well, and the classes that did\n",
        "not perform well:\n",
        "\n"
      ]
    },
    {
      "cell_type": "code",
      "metadata": {
        "id": "pDNFuDEDpoDG",
        "colab_type": "code",
        "outputId": "3057d6ae-20ee-4f48-bb5f-6c1c45d786a2",
        "colab": {
          "base_uri": "https://localhost:8080/",
          "height": 187
        }
      },
      "source": [
        "class_correct = list(0. for i in range(10))\n",
        "class_total = list(0. for i in range(10))\n",
        "with torch.no_grad():\n",
        "    for data in testloader:\n",
        "        images, labels = data\n",
        "        outputs = net(images)\n",
        "        _, predicted = torch.max(outputs, 1)\n",
        "        c = (predicted == labels).squeeze()\n",
        "        for i in range(4):\n",
        "            label = labels[i]\n",
        "            class_correct[label] += c[i].item()\n",
        "            class_total[label] += 1\n",
        "\n",
        "\n",
        "for i in range(10):\n",
        "    print('Accuracy of %5s : %2d %%' % (\n",
        "        classes[i], 100 * class_correct[i] / class_total[i]))"
      ],
      "execution_count": 0,
      "outputs": [
        {
          "output_type": "stream",
          "text": [
            "Accuracy of plane : 27 %\n",
            "Accuracy of   car : 39 %\n",
            "Accuracy of  bird : 23 %\n",
            "Accuracy of   cat :  8 %\n",
            "Accuracy of  deer :  0 %\n",
            "Accuracy of   dog :  3 %\n",
            "Accuracy of  frog : 26 %\n",
            "Accuracy of horse : 31 %\n",
            "Accuracy of  ship :  0 %\n",
            "Accuracy of truck :  4 %\n"
          ],
          "name": "stdout"
        }
      ]
    },
    {
      "cell_type": "code",
      "metadata": {
        "id": "RGaklwfAQre1",
        "colab_type": "code",
        "outputId": "845e3c86-aff7-4073-eb1a-556140e461b8",
        "colab": {
          "base_uri": "https://localhost:8080/",
          "height": 241
        }
      },
      "source": [
        "#Adding Module for GradCam to resnet18\n",
        "!pip install pytorch-gradcam\n"
      ],
      "execution_count": 0,
      "outputs": [
        {
          "output_type": "stream",
          "text": [
            "Collecting pytorch-gradcam\n",
            "\u001b[?25l  Downloading https://files.pythonhosted.org/packages/e6/0a/55251f7cbea464581c6fb831813d38a41fdeb78f3dd8193522248cb98744/pytorch-gradcam-0.2.1.tar.gz (6.0MB)\n",
            "\u001b[K     |████████████████████████████████| 6.0MB 3.5MB/s \n",
            "\u001b[?25hRequirement already satisfied: opencv-python in /usr/local/lib/python3.6/dist-packages (from pytorch-gradcam) (4.1.2.30)\n",
            "Requirement already satisfied: numpy in /usr/local/lib/python3.6/dist-packages (from pytorch-gradcam) (1.18.4)\n",
            "Building wheels for collected packages: pytorch-gradcam\n",
            "  Building wheel for pytorch-gradcam (setup.py) ... \u001b[?25l\u001b[?25hdone\n",
            "  Created wheel for pytorch-gradcam: filename=pytorch_gradcam-0.2.1-cp36-none-any.whl size=5269 sha256=3292648cda2d5ab5862f89e957217b58bb9fcaba03fce8b7d93e0b35479f863b\n",
            "  Stored in directory: /root/.cache/pip/wheels/e8/1e/35/d24150a078a90ce0ad093586814d4665e945466baa89907300\n",
            "Successfully built pytorch-gradcam\n",
            "Installing collected packages: pytorch-gradcam\n",
            "Successfully installed pytorch-gradcam-0.2.1\n"
          ],
          "name": "stdout"
        }
      ]
    },
    {
      "cell_type": "code",
      "metadata": {
        "id": "W0Lg83201hxH",
        "colab_type": "code",
        "colab": {}
      },
      "source": [
        "import torchvision.models as models\n",
        "from gradcam import *"
      ],
      "execution_count": 0,
      "outputs": []
    },
    {
      "cell_type": "code",
      "metadata": {
        "id": "UXFjEKC-Wxhh",
        "colab_type": "code",
        "colab": {}
      },
      "source": [
        "#GradCAM Module\n",
        "\n",
        "class GradCam:\n",
        "    def __init__(self, model, feature_module, target_layer_names, use_cuda):\n",
        "        self.model = model\n",
        "        self.feature_module = feature_module\n",
        "        self.model.eval()\n",
        "        self.cuda = use_cuda\n",
        "        if self.cuda:\n",
        "            self.model = model.cuda()\n",
        "\n",
        "        self.extractor = ModelOutputs(self.model, self.feature_module, target_layer_names)\n",
        "\n",
        "    def forward(self, input):\n",
        "        return self.model(input)\n",
        "\n",
        "    def __call__(self, input, index=None):\n",
        "        if self.cuda:\n",
        "            features, output = self.extractor(input.cuda())\n",
        "        else:\n",
        "            features, output = self.extractor(input)\n",
        "\n",
        "        if index == None:\n",
        "            index = np.argmax(output.cpu().data.numpy())\n",
        "\n",
        "        one_hot = np.zeros((1, output.size()[-1]), dtype=np.float32)\n",
        "        one_hot[0][index] = 1\n",
        "        one_hot = torch.from_numpy(one_hot).requires_grad_(True)\n",
        "        if self.cuda:\n",
        "            one_hot = torch.sum(one_hot.cuda() * output)\n",
        "        else:\n",
        "            one_hot = torch.sum(one_hot * output)\n",
        "\n",
        "        self.feature_module.zero_grad()\n",
        "        self.model.zero_grad()\n",
        "        one_hot.backward(retain_graph=True)\n",
        "\n",
        "        grads_val = self.extractor.get_gradients()[-1].cpu().data.numpy()\n",
        "\n",
        "        target = features[-1]\n",
        "        target = target.cpu().data.numpy()[0, :]\n",
        "\n",
        "        weights = np.mean(grads_val, axis=(2, 3))[0, :]\n",
        "        cam = np.zeros(target.shape[1:], dtype=np.float32)\n",
        "\n",
        "        for i, w in enumerate(weights):\n",
        "            cam += w * target[i, :, :]\n",
        "\n",
        "        cam = np.maximum(cam, 0)\n",
        "        cam = cv2.resize(cam, input.shape[2:])\n",
        "        cam = cam - np.min(cam)\n",
        "        cam = cam / np.max(cam)\n",
        "        return cam\n",
        "      "
      ],
      "execution_count": 0,
      "outputs": []
    },
    {
      "cell_type": "code",
      "metadata": {
        "id": "SNT5cPZH62-n",
        "colab_type": "code",
        "colab": {}
      },
      "source": [
        "\n",
        "import argparse\n",
        "\n",
        "def preprocess_image(img):\n",
        "    means = [0.5, 0.5, 0.5]\n",
        "    stds = [0.5, 0.5, 0.5]\n",
        "\n",
        "    preprocessed_img = img.copy()[:, :, ::-1]\n",
        "    for i in range(3):\n",
        "        preprocessed_img[:, :, i] = preprocessed_img[:, :, i] - means[i]\n",
        "        preprocessed_img[:, :, i] = preprocessed_img[:, :, i] / stds[i]\n",
        "    preprocessed_img = \\\n",
        "        np.ascontiguousarray(np.transpose(preprocessed_img, (2, 0, 1)))\n",
        "    preprocessed_img = torch.from_numpy(preprocessed_img)\n",
        "    preprocessed_img.unsqueeze_(0)\n",
        "    input = preprocessed_img.requires_grad_(True)\n",
        "    return input\n",
        "\n",
        "\n",
        "def get_args():\n",
        "    parser = argparse.ArgumentParser()\n",
        "    #parser.add_argument('--use-cuda', action='store_true', default=False,\n",
        "    #                    help='Use NVIDIA GPU acceleration')\n",
        "    #parser.add_argument('--image-path', type=str, default='./examples/both.png',\n",
        "    #                    help='Input image path')\n",
        "    args = parser.parse_args()\n",
        "    args.use_cuda = args.use_cuda and torch.cuda.is_available()\n",
        "    if args.use_cuda:\n",
        "        print(\"Using GPU for acceleration\")\n",
        "    else:\n",
        "        print(\"Using CPU for computation\")\n",
        "\n",
        "    return args"
      ],
      "execution_count": 0,
      "outputs": []
    },
    {
      "cell_type": "code",
      "metadata": {
        "id": "oOe7JJ1R6XZ5",
        "colab_type": "code",
        "outputId": "4aa048a1-4862-4fad-b234-a885bf6a62ee",
        "colab": {
          "base_uri": "https://localhost:8080/",
          "height": 180
        }
      },
      "source": [
        "# Can work with any model, but it assumes that the model has a\n",
        "# feature method, and a classifier method,\n",
        "# as in the VGG models in torchvision.\n",
        "\n",
        "#Running GradCAM on Resnet18 model\n",
        "\n",
        "args = get_args()\n",
        "model = models.resnet18(pretrained=True)\n",
        "grad_cam = GradCam(model=model, feature_module=model.layer4, \\\n",
        "                       target_layer_names=[\"2\"], use_cuda=args.use_cuda)\n",
        "img, _ = next(iter(trainloader))\n",
        "input = preprocess_image(img)\n",
        "\n",
        "# If None, returns the map for the highest scoring category.\n",
        "# Otherwise, targets the requested index.\n",
        "target_index = None\n",
        "mask = grad_cam(input, target_index)\n",
        "\n",
        "show_cam_on_image(img, mask)"
      ],
      "execution_count": 0,
      "outputs": [
        {
          "output_type": "stream",
          "text": [
            "usage: ipykernel_launcher.py [-h]\n",
            "ipykernel_launcher.py: error: unrecognized arguments: -f /root/.local/share/jupyter/runtime/kernel-dca0ef64-34db-4f48-8a00-7a1bdbb1d9d8.json\n"
          ],
          "name": "stderr"
        },
        {
          "output_type": "error",
          "ename": "SystemExit",
          "evalue": "ignored",
          "traceback": [
            "An exception has occurred, use %tb to see the full traceback.\n",
            "\u001b[0;31mSystemExit\u001b[0m\u001b[0;31m:\u001b[0m 2\n"
          ]
        },
        {
          "output_type": "stream",
          "text": [
            "/usr/local/lib/python3.6/dist-packages/IPython/core/interactiveshell.py:2890: UserWarning: To exit: use 'exit', 'quit', or Ctrl-D.\n",
            "  warn(\"To exit: use 'exit', 'quit', or Ctrl-D.\", stacklevel=1)\n"
          ],
          "name": "stderr"
        }
      ]
    }
  ]
}